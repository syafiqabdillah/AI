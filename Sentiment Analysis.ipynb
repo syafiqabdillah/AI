{
 "cells": [
  {
   "cell_type": "code",
   "execution_count": 11,
   "metadata": {},
   "outputs": [
    {
     "name": "stdout",
     "output_type": "stream",
     "text": [
      "average sentiment for barack obama is 0.09740823412698411\n"
     ]
    }
   ],
   "source": [
    "import tweepy \n",
    "from textblob import TextBlob \n",
    "\n",
    "consumer_key='rofPvc4pXL8WtkJtgfu32Em6b' \n",
    "consumer_secret='80735KRyztTkYaLQDsJdb4NhC1JQLWIhK2QLIcVsIUxnLVcIc1'\n",
    "\n",
    "access_token='98086469-0bzZSWLTlheOyQAM5GHBBZTIo8oyG6VSwRiwPVu6V'\n",
    "access_token_secret='xPSbB0z6Kt4ZwDjDQTHnGql6v8OUxyx1S8GWS8CzEBKZd'\n",
    "\n",
    "auth = tweepy.OAuthHandler(consumer_key, consumer_secret)\n",
    "auth.set_access_token(access_token, access_token_secret)\n",
    "\n",
    "api = tweepy.API(auth)\n",
    "\n",
    "TERMS = 'barack obama'\n",
    "public_tweets = api.search(TERMS)\n",
    "\n",
    "num_of_tweets = 0\n",
    "sum_polarities = 0\n",
    "\n",
    "for tweet in public_tweets:\n",
    "    #print(tweet.text)\n",
    "    analysis = TextBlob(tweet.text)\n",
    "    #print(analysis.sentiment.polarity)\n",
    "    num_of_tweets += 1\n",
    "    sum_polarities += analysis.sentiment.polarity\n",
    "    \n",
    "avg_sentiment = sum_polarities / num_of_tweets\n",
    "print('average sentiment for ' + TERMS + ' is ' + str(avg_sentiment))"
   ]
  },
  {
   "cell_type": "code",
   "execution_count": null,
   "metadata": {},
   "outputs": [],
   "source": []
  }
 ],
 "metadata": {
  "kernelspec": {
   "display_name": "Python 3",
   "language": "python",
   "name": "python3"
  },
  "language_info": {
   "codemirror_mode": {
    "name": "ipython",
    "version": 3
   },
   "file_extension": ".py",
   "mimetype": "text/x-python",
   "name": "python",
   "nbconvert_exporter": "python",
   "pygments_lexer": "ipython3",
   "version": "3.6.5"
  }
 },
 "nbformat": 4,
 "nbformat_minor": 2
}
