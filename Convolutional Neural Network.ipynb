{
 "cells": [
  {
   "cell_type": "code",
   "execution_count": 1,
   "metadata": {},
   "outputs": [
    {
     "name": "stderr",
     "output_type": "stream",
     "text": [
      "C:\\Users\\ASUS\\Anaconda3\\lib\\site-packages\\h5py\\__init__.py:36: FutureWarning: Conversion of the second argument of issubdtype from `float` to `np.floating` is deprecated. In future, it will be treated as `np.float64 == np.dtype(float).type`.\n",
      "  from ._conv import register_converters as _register_converters\n"
     ]
    },
    {
     "name": "stdout",
     "output_type": "stream",
     "text": [
      "Train on 22451 samples, validate on 2495 samples\n",
      "Epoch 1/10\n",
      "22451/22451 [==============================] - 58s 3ms/step - loss: 0.5897 - acc: 0.6814 - val_loss: 0.4961 - val_acc: 0.7647\n",
      "Epoch 2/10\n",
      "22451/22451 [==============================] - 34s 2ms/step - loss: 0.4980 - acc: 0.7622 - val_loss: 0.4645 - val_acc: 0.7768\n",
      "Epoch 3/10\n",
      "22451/22451 [==============================] - 34s 1ms/step - loss: 0.4582 - acc: 0.7881 - val_loss: 0.4421 - val_acc: 0.7952\n",
      "Epoch 4/10\n",
      "22451/22451 [==============================] - 34s 1ms/step - loss: 0.4205 - acc: 0.8071 - val_loss: 0.4681 - val_acc: 0.7832\n",
      "Epoch 5/10\n",
      "22451/22451 [==============================] - 34s 1ms/step - loss: 0.3887 - acc: 0.8254 - val_loss: 0.4206 - val_acc: 0.8068\n",
      "Epoch 6/10\n",
      "22451/22451 [==============================] - 34s 2ms/step - loss: 0.3553 - acc: 0.8409 - val_loss: 0.4401 - val_acc: 0.8064\n",
      "Epoch 7/10\n",
      "22451/22451 [==============================] - 34s 1ms/step - loss: 0.3207 - acc: 0.8606 - val_loss: 0.4397 - val_acc: 0.8044\n",
      "Epoch 8/10\n",
      "22451/22451 [==============================] - 34s 1ms/step - loss: 0.2905 - acc: 0.8723 - val_loss: 0.4496 - val_acc: 0.8140\n",
      "Epoch 9/10\n",
      "22451/22451 [==============================] - 33s 1ms/step - loss: 0.2555 - acc: 0.8896 - val_loss: 0.4401 - val_acc: 0.8120\n",
      "Epoch 10/10\n",
      "22451/22451 [==============================] - 34s 1ms/step - loss: 0.2196 - acc: 0.9085 - val_loss: 0.4860 - val_acc: 0.7972\n"
     ]
    },
    {
     "data": {
      "text/plain": [
       "<tensorflow.python.keras.callbacks.History at 0x2411109d6d8>"
      ]
     },
     "execution_count": 1,
     "metadata": {},
     "output_type": "execute_result"
    }
   ],
   "source": [
    "import tensorflow as tf \n",
    "from tensorflow.keras.models import Sequential\n",
    "from tensorflow.keras.layers import Dense, Dropout, Activation, Flatten, Conv2D, MaxPooling2D\n",
    "import pickle \n",
    "\n",
    "# using our saved data \n",
    "\n",
    "X = pickle.load(open(\"X.pickle\", \"rb\"))\n",
    "y = pickle.load(open(\"y.pickle\", \"rb\"))\n",
    "\n",
    "# normalize image data, divide each pixel value by 255 \n",
    "X = X/255.0\n",
    "\n",
    "model = Sequential()\n",
    "\n",
    "model.add(Conv2D(64, (3,3), input_shape = X.shape[1:])) # first layer\n",
    "model.add(Activation(\"relu\"))\n",
    "model.add(MaxPooling2D(pool_size=(2,2)))\n",
    "\n",
    "model.add(Conv2D(64, (3,3))) # second layer\n",
    "model.add(Activation(\"relu\"))\n",
    "model.add(MaxPooling2D(pool_size=(2,2)))\n",
    "\n",
    "model.add(Flatten()) # third layer \n",
    "model.add(Dense(64))\n",
    "model.add(Activation(\"relu\"))\n",
    "\n",
    "model.add(Dense(1)) # output layer\n",
    "model.add(Activation(\"sigmoid\"))\n",
    "\n",
    "model.compile(loss=\"binary_crossentropy\",\n",
    "             optimizer=\"adam\",\n",
    "             metrics=['accuracy'])\n",
    "\n",
    "# train the models 5 times \n",
    "model.fit(X, y, batch_size=32, epochs=10, validation_split=0.1)"
   ]
  },
  {
   "cell_type": "code",
   "execution_count": 2,
   "metadata": {},
   "outputs": [],
   "source": [
    "model.save(\"catdog.model\")"
   ]
  },
  {
   "cell_type": "code",
   "execution_count": null,
   "metadata": {},
   "outputs": [],
   "source": []
  }
 ],
 "metadata": {
  "kernelspec": {
   "display_name": "Python 3",
   "language": "python",
   "name": "python3"
  },
  "language_info": {
   "codemirror_mode": {
    "name": "ipython",
    "version": 3
   },
   "file_extension": ".py",
   "mimetype": "text/x-python",
   "name": "python",
   "nbconvert_exporter": "python",
   "pygments_lexer": "ipython3",
   "version": "3.6.5"
  }
 },
 "nbformat": 4,
 "nbformat_minor": 2
}
